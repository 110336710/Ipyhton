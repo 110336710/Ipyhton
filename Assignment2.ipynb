{
 "cells": [
  {
   "cell_type": "markdown",
   "metadata": {
    "slideshow": {
     "slide_type": "slide"
    }
   },
   "source": [
    "# Assignment2\n",
    "\n",
    "## Notebook made by  \n",
    "\n",
    "|** Name** | **Student id** | **email**|\n",
    "|:- |:-|:-|\n",
    "|Ilse Lankhorst  |10336710  |ilselankhorst@hotmail.com |\n",
    "|Tessel Zandstra |10578773  |tesselzandstra@gmail.com  |\n",
    "|David van Rooij |10661980  |djcvanrooij@gmail.com     |\n",
    "\n",
    "### Pledge (taken from [Coursera's Honor Code](https://www.coursera.org/about/terms/honorcode) )\n",
    "\n",
    "<img src=\"https://github.com/110336710/Ipyhton/blob/master/selfies/20160210145719.jpg?raw=true\">\n",
    "<img src=\"https://github.com/110336710/Ipyhton/blob/master/selfies/20160210145722.jpg?raw=true\">\n",
    "<img src=\"https://github.com/110336710/Ipyhton/blob/master/selfies/20160210150239.jpg?raw=true\">\n",
    "\n",
    "##David moet even een nieuwe selfie toevoegen met handtekening!!\n",
    "\n",
    "\n",
    "### Note\n",
    "* **Assignments without the selfies or completely filled in information will not be graded and receive 0 points.**\n"
   ]
  },
  {
   "cell_type": "markdown",
   "metadata": {
    "slideshow": {
     "slide_type": "slide"
    }
   },
   "source": [
    "# Part 1: obtaining information from the web\n",
    "\n",
    "### RSS parsing\n",
    "\n",
    "Make a notebook that performs the following steps.\n",
    "\n",
    "1. Create a script that retrieves all urls of rss feeds from <http://www.volkskrant.nl/rss/feeds/>. Use urllib2 and beautifulsoup for this. Store the urls in a list.\n",
    "    * **update 2016**\n",
    "    * As all Dutch sites, Volkskrant asks whether you accept cookies. This makes simple collecting webpages a lot harder. \n",
    "    * The code in the code cell below does the trick. \n",
    "    * After running this, I could collect further files from Volkskrant without additional cookie hassle.\n",
    "2. Download all rss feeds and store them on disk.\n",
    "3. Parse all RSS feeds using `lxml`. Create a list of  dicts with fields \"channel\", \"url\", \"title\", \"date\" in which you store this information for each item.\n",
    "4. Compute some statistics about this dict: how many items, how many per channel, are there doubles (items occuring in several channels), etc.\n",
    "5. Write this list as a csv file, store on disk, and upload to Google fusion tables.\n",
    "6. Download all articles (once), parse out the text and store as pairs (date,text) in a list.\n",
    "7. Count per day the number of words, and the number of unique words. Show this in a plot."
   ]
  },
  {
   "cell_type": "code",
   "execution_count": 25,
   "metadata": {
    "collapsed": false
   },
   "outputs": [
    {
     "name": "stdout",
     "output_type": "stream",
     "text": [
      "None\n",
      "http://www.volkskrant.nl/\n",
      "\n",
      "http://www.volkskrant.nl/het-weer/\n",
      " http://www.z24.nl/koers-aex?partner=vk\n",
      "http://www.intermediair.nl/vacature/zoeken/overzicht/?ref=vkbanen.nl&utm_source=vk.nl&utm_medium=navigatie&utm_campaign=persgroep_netwerk&utm_term=lead&utm_content=vacature_zoeken\n",
      "http://abonnement.volkskrant.nl/abonneerpagina-abc?otag=KbakPe&utm_source=vk&utm_medium=tekstlink&utm_content=tekstlink+header&utm_campaign=abonneren\n",
      "http://krant.volkskrant.nl/\n",
      "http://www.volkskrant.nl/service\n",
      "http://www.volkskrant.nl/shop/\n",
      "http://www.volkskrant.nl/inclusief\n",
      "https://www.twitter.com/volkskrant\n",
      "https://www.facebook.com/volkskrant\n",
      "https://instagram.com/de_volkskrant\n",
      "http://www.volkskrant.nl/\n",
      "http://www.volkskrant.nl/\n",
      "http://www.volkskrant.nl/buitenland/\n",
      "http://www.volkskrant.nl/binnenland/\n",
      "http://www.volkskrant.nl/opinie/\n",
      "http://www.volkskrant.nl/economie/\n",
      "http://www.volkskrant.nl/sport/\n",
      "http://www.volkskrant.nl/tech/\n",
      "http://www.volkskrant.nl/media/\n",
      "http://www.volkskrant.nl/wetenschap/\n",
      "http://www.volkskrant.nl/politiek/\n",
      "http://www.volkskrant.nl/specials/\n",
      "http://www.volkskrant.nl/cartoons/\n",
      "http://www.volkskrant.nl/foto/\n",
      "http://www.volkskrant.nl/vonk/\n",
      "http://www.volkskrant.nl/cultuur-en-leven/\n",
      "http://www.volkskrant.nl/cultuur-en-leven/\n",
      "http://www.volkskrant.nl/recensies/\n",
      "http://www.volkskrant.nl/film/\n",
      "http://www.volkskrant.nl/muziek/\n",
      "http://www.volkskrant.nl/reizen/\n",
      "http://www.volkskrant.nl/koken-en-eten/\n",
      "http://www.volkskrant.nl/theater/\n",
      "http://www.volkskrant.nl/boeken/\n",
      "http://www.volkskrant.nl/magazine/\n",
      "http://www.volkskrant.nl/beeldende-kunst/\n",
      "http://www.volkskrant.nl/mode-en-mooi/\n",
      "http://www.volkskrant.nl/festivals/\n",
      "http://www.volkskrant.nl/televisie/\n",
      "#\n",
      "http://www.volkskrant.nl/mijn/nieuws/\n",
      "http://www.volkskrant.nl/mijn/ik-volg/\n",
      "http://www.volkskrant.nl/mijn/lees-later/\n",
      "#\n",
      "http://www.volkskrant.nl/mijn/instellingen/\n",
      "#\n",
      "#\n",
      "http://www.volkskrant.nl/het-weer/\n",
      " http://www.z24.nl/koers-aex?partner=vk\n",
      "http://www.volkskrant.nl/\n",
      "http://www.volkskrant.nl/buitenland/\n",
      "http://www.volkskrant.nl/binnenland/\n",
      "http://www.volkskrant.nl/opinie/\n",
      "http://www.volkskrant.nl/economie/\n",
      "http://www.volkskrant.nl/sport/\n",
      "http://www.volkskrant.nl/tech/\n",
      "http://www.volkskrant.nl/media/\n",
      "http://www.volkskrant.nl/wetenschap/\n",
      "http://www.volkskrant.nl/politiek/\n",
      "http://www.volkskrant.nl/specials/\n",
      "http://www.volkskrant.nl/cartoons/\n",
      "http://www.volkskrant.nl/foto/\n",
      "http://www.volkskrant.nl/vonk/\n",
      "http://abonnement.volkskrant.nl/abonneerpagina-abc?otag=KbakPe&utm_source=vk&utm_medium=tekstlink&utm_content=tekstlink+header&utm_campaign=abonneren\n",
      "http://www.volkskrant.nl/shop/\n",
      "http://www.volkskrant.nl/service\n",
      "http://www.volkskrant.nl/cultuur-en-leven/\n",
      "http://www.volkskrant.nl/recensies/\n",
      "http://www.volkskrant.nl/film/\n",
      "http://www.volkskrant.nl/muziek/\n",
      "http://www.volkskrant.nl/reizen/\n",
      "http://www.volkskrant.nl/koken-en-eten/\n",
      "http://www.volkskrant.nl/theater/\n",
      "http://www.volkskrant.nl/boeken/\n",
      "http://www.volkskrant.nl/magazine/\n",
      "http://www.volkskrant.nl/beeldende-kunst/\n",
      "http://www.volkskrant.nl/mode-en-mooi/\n",
      "http://www.volkskrant.nl/festivals/\n",
      "http://www.volkskrant.nl/televisie/\n",
      "http://www.volkskrant.nl/inclusief\n",
      "http://abonnement.volkskrant.nl/abonneerpagina-abc?otag=KbakPe&utm_source=vk&utm_medium=tekstlink&utm_content=tekstlink+header&utm_campaign=abonneren\n",
      "http://www.volkskrant.nl/shop/\n",
      "http://www.volkskrant.nl/service\n",
      "http://www.volkskrant.nl/mijn/nieuws/\n",
      "http://www.volkskrant.nl/mijn/ik-volg/\n",
      "http://www.volkskrant.nl/mijn/lees-later/\n",
      "http://www.volkskrant.nl/mijn/instellingen/\n",
      "#\n",
      "http://www.volkskrant.nl/nieuws/rss.xml\n",
      "http://www.volkskrant.nl/nieuws-voorpagina/rss.xml\n",
      "http://www.volkskrant.nl/buitenland/rss.xml\n",
      "http://www.volkskrant.nl/binnenland/rss.xml\n",
      "http://www.volkskrant.nl/opinie/rss.xml\n",
      "http://www.volkskrant.nl/economie/rss.xml\n",
      "http://www.volkskrant.nl/sport/rss.xml\n",
      "http://www.volkskrant.nl/tech/rss.xml\n",
      "http://www.volkskrant.nl/media/rss.xml\n",
      "http://www.volkskrant.nl/wetenschap/rss.xml\n",
      "http://www.volkskrant.nl/politiek/rss.xml\n",
      "http://www.volkskrant.nl/cartoons/rss.xml\n",
      "http://www.volkskrant.nl/foto/rss.xml\n",
      "http://www.volkskrant.nl/vonk/rss.xml\n",
      "http://www.volkskrant.nl/authors/rss.xml\n",
      "http://www.volkskrant.nl/toplists/rss.xml\n",
      "http://www.volkskrant.nl/archief/rss.xml\n",
      "http://www.volkskrant.nl/cultuur-en-leven/rss.xml\n",
      "http://www.volkskrant.nl/cultuur-en-leven-voorpagina/rss.xml\n",
      "http://www.volkskrant.nl/recensies/rss.xml\n",
      "http://www.volkskrant.nl/film/rss.xml\n",
      "http://www.volkskrant.nl/muziek/rss.xml\n",
      "http://www.volkskrant.nl/reizen/rss.xml\n",
      "http://www.volkskrant.nl/koken-en-eten/rss.xml\n",
      "http://www.volkskrant.nl/theater/rss.xml\n",
      "http://www.volkskrant.nl/boeken/rss.xml\n",
      "http://www.volkskrant.nl/magazine/rss.xml\n",
      "http://www.volkskrant.nl/beeldende-kunst/rss.xml\n",
      "http://www.volkskrant.nl/mode-en-mooi/rss.xml\n",
      "http://www.volkskrant.nl/festivals/rss.xml\n",
      "http://www.volkskrant.nl/televisie/rss.xml\n",
      "http://www.volkskrant.nl/voordeel/rss.xml\n",
      "https://www.volkskrant.nl/shop/product/de-laatste-oorlog\n",
      "https://www.volkskrant.nl/shop/product/boekverfilming\n",
      "https://www.volkskrant.nl/shop/product/mad-men-1176\n",
      "https://www.volkskrant.nl/shop/\n",
      "https://www.twitter.com/volkskrant\n",
      "https://www.facebook.com/volkskrant\n",
      "http://www.volkskrant.nl/archief/\n",
      " http://krant.volkskrant.nl/\n",
      "http://www.volkskrant.nl/redactie/\n",
      "https://itunes.apple.com/us/app/volkskrant.nl-mobile/id418873064?mt=8\n",
      "https://play.google.com/store/apps/details?id=be.persgroep.android.news.mobilevk\n",
      "https://itunes.apple.com/nl/app/de-volkskrant-hd/id408243158?mt=8\n",
      "https://play.google.com/store/apps/details?id=be.persgroep.red.mobile.android.vkn\n",
      "http://apps.microsoft.com/windows/nl-nl/app/de-volkskrant/8ea37eae-a76b-4b78-93d9-c1e2a67e285c\n",
      "http://abonnement.volkskrant.nl/app\n",
      "http://www.volkskrant.nl/media/colofon~a4118130/\n",
      "http://www.volkskrant.nl/auteursrecht/\n",
      "http://www.persgroep.nl/privacy\n",
      "http://www.persgroep.nl/vacatures\n",
      "http://abonnement.volkskrant.nl/productinformatie?otag=9f8ydb&utm_source=vk&utm_medium=tekstlink&utm_content=tekstlink+footer&utm_campaign=vk+info\n",
      "http://www.volkskrant.nl/rss/feeds/\n",
      "http://abonnement.volkskrant.nl/abonneerpagina-abc?otag=KbakPe&utm_source=vk&utm_medium=tekstlink&utm_content=tekstlink+header&utm_campaign=abonneren\n",
      "http://www.volkskrant.nl/service\n",
      "http://www.volkskrant.nl/service\n",
      "http://www.volkskrant.nl/service/contact/\n",
      "http://www.persgroepadvertising.nl/onze-merken/het-merk-de-volkskrant?utm_source=volkskrant.nl&utm_medium=referral&utm_campaign=Adverteren%2BService%26Contact\n",
      "http://depersgroep.nl/\n",
      "http://www.volkskrant.nl/integratie/gebruiksvoorwaarden/\n",
      "http://www.parool.nl\n",
      "http://www.ad.nl\n",
      "http://www.trouw.nl\n",
      "http://www.papermagazine.nl\n"
     ]
    }
   ],
   "source": [
    "import cookielib # Thanks to http://stackoverflow.com/questions/29395407/enabling-cookies-with-urllib\n",
    "import urllib2\n",
    "import urllib\n",
    "import requests\n",
    "import os\n",
    "from bs4 import BeautifulSoup\n",
    "import re \n",
    "\n",
    "\n",
    "url = 'http://www.volkskrant.nl/rss/feeds/'\n",
    "\n",
    "# with urllib2 and handling cookies\n",
    "cookiejar= cookielib.LWPCookieJar()\n",
    "opener= urllib2.build_opener( urllib2.HTTPCookieProcessor(cookiejar) )\n",
    "response=opener.open(url)\n",
    "html_doc= ' '.join(response.readlines())\n",
    "rsssoup = BeautifulSoup(html_doc, \"lxml\")\n",
    "\n",
    "# test \n",
    "#list_items=rsssoup.findAll('li class=\"sub-nav__item fjs-sub-nav__item')\n",
    "#len(list_items), list_items[40]\n",
    "\n",
    "#1.1\n",
    "#LET OP LEES ONDERSTAANDE LINK EERST VOORDAT JE BEGINT MET BEAUTIFUL SOUP\n",
    "#http://www.crummy.com/software/BeautifulSoup/bs4/doc/ \n",
    "\n",
    "#list_items = rsssoup.findAll('ul', attrs={'class', 'unstyled-list'})\n",
    "#links = list_items.findAll('a') #dit mag niet\n",
    "#links = rsssoup.findAll('ul', attrs={'class', 'unstyled-list'})\n",
    "#print links\n",
    "#print rsssoup\n",
    "#for link in rsssoup.find_all('ul', attrs={'class', 'unstyled-list'}):\n",
    "#print(link.get('href'))\n",
    "\n",
    "for link in rsssoup.findAll('a'):\n",
    "    print link.get(\"href\")\n",
    "\n",
    "\n",
    "#1.2\n",
    "\n",
    "#1.3\n",
    "#list= dict([\"channel\", \"url\", \"title\", \"date\"])\n",
    "\n",
    "\n"
   ]
  },
  {
   "cell_type": "code",
   "execution_count": null,
   "metadata": {
    "collapsed": true
   },
   "outputs": [],
   "source": [
    "list_links = rsssoup.children"
   ]
  },
  {
   "cell_type": "code",
   "execution_count": null,
   "metadata": {
    "collapsed": true
   },
   "outputs": [],
   "source": []
  },
  {
   "cell_type": "markdown",
   "metadata": {
    "slideshow": {
     "slide_type": "slide"
    }
   },
   "source": [
    "### JSON parsing\n",
    "\n",
    "1. Download <http://maartenmarx.nl/teaching/ISatWork/NoteBooks/consuming-json-data-from-a-web-service.ipynb>, remove all code blocks, and turn it into a notebook again. \n",
    "2. Check that what you did is correct and you did not remove too much using a notebook viewer.\n",
    "3. Now extract all code from the downloaded notebook, save it to a file, and execute it as a Python script. Does it give errors? Is it syntactically correct?"
   ]
  },
  {
   "cell_type": "markdown",
   "metadata": {
    "slideshow": {
     "slide_type": "slide"
    }
   },
   "source": [
    "### PDF parsing\n",
    "\n",
    "1. Save a wordfile as PDF, open it in Python, extract all text. Describe the differences, if any. Try the same with a two column PDF file from the web. This exercise gets more interesting if you use _difficult_ PDF. Why not try <http://wch.github.io/latexsheet/latexsheet.pdf>?\n",
    "\n",
    "* Is the word order still as it should be?\n",
    "* What about the strange characters?"
   ]
  },
  {
   "cell_type": "markdown",
   "metadata": {
    "slideshow": {
     "slide_type": "slide"
    }
   },
   "source": [
    "# Part 2 Python recap\n",
    "\n",
    "Download [PythonRecap2.0.ipynb](PythonRecap2.0.ipynb),  and answer all questions as asked."
   ]
  }
 ],
 "metadata": {
  "celltoolbar": "Slideshow",
  "kernelspec": {
   "display_name": "Python 2",
   "language": "python",
   "name": "python2"
  },
  "language_info": {
   "codemirror_mode": {
    "name": "ipython",
    "version": 2
   },
   "file_extension": ".py",
   "mimetype": "text/x-python",
   "name": "python",
   "nbconvert_exporter": "python",
   "pygments_lexer": "ipython2",
   "version": "2.7.11"
  }
 },
 "nbformat": 4,
 "nbformat_minor": 0
}
