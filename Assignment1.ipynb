{
 "cells": [
  {
   "cell_type": "code",
   "execution_count": null,
   "metadata": {
    "collapsed": true,
    "slideshow": {
     "slide_type": "slide"
    }
   },
   "outputs": [],
   "source": [
    "# Assignment1\n",
    "\n",
    "## Notebook made by  \n",
    "\n",
    "|** Name** | **Student id** | **email**|\n",
    "|:- |:-|:-|\n",
    "|Ilse Lankhorst |10336710 |ilselankhorst@hotmail.com |\n",
    "|Tessel Zandstra  |10578773 |tesselzandstra@gmail.com |\n",
    "|David van Rooij |10661980 |djcvanrooij@gmail.com |\n",
    "\n",
    "### Pledge (taken from [Coursera's Honor Code](https://www.coursera.org/about/terms/honorcode) )\n",
    "\n",
    "<img src=\"https://github.com/110336710/Ipyhton/blob/master/selfies/20160210145719.jpg?raw=true\">\n",
    "<img src=\"https://github.com/110336710/Ipyhton/blob/master/selfies/20160210145722.jpg?raw=true\">\n",
    "<img src=\"https://github.com/110336710/Ipyhton/blob/master/selfies/20160210150239.jpg?raw=true\">\n",
    "\n",
    "\n",
    "### Note\n",
    "* **Assignments without the selfies or completely filled in information will not be graded and receive 0 points.**\n"
   ]
  },
  {
   "cell_type": "markdown",
   "metadata": {
    "slideshow": {
     "slide_type": "slide"
    }
   },
   "source": [
    "# Q1 (Monty Hall problem)\n",
    "\n",
    "This is the part you hand in from the [warm up notebook](MontyHall.ipynb).\n",
    "\n",
    "##  This counts for your mark\n",
    "\n",
    "Generalize your simulation code to handle the case of `n` doors.\n",
    "\n",
    "\n",
    "This sentence can be read in two ways, giving very different outcomes! You must program both, and understand that it all makes sense.\n",
    "\n",
    "\n",
    "### Your work\n",
    "For both interpretations, give a plot with the number of doors on the x-axis and the win_percentage on the y-axis, and plot that value for the two strategies for numbers of doors between 3 and 20. \n",
    "\n",
    "Describe briefly what is going on here, and why the plots makes sense.\n",
    "\n",
    "\n",
    "### Interpretation  1\n",
    "* There are _n_ doors.\n",
    "* You have chosen one door.\n",
    "* The host opens one door as before (it is not the door you have chosen and not a door with the prize)\n",
    "* Now you switch or not."
   ]
  },
  {
   "cell_type": "code",
   "execution_count": null,
   "metadata": {
    "collapsed": true,
    "slideshow": {
     "slide_type": "slide"
    }
   },
   "outputs": [],
   "source": [
    "#your code here\n",
    "\n",
    "import numpy as np\n",
    "    \n",
    "def simulate(nsim, doors):\n",
    "    \n",
    "    def simulate_guess(nsim, n):\n",
    "        guesses = [np.random.randint(0,n/2) for i in range(nsim)]\n",
    "        return guesses\n",
    "    \n",
    "    \n",
    "    def simulate_prizedoor(nsim, n):\n",
    "        answer = list(); \n",
    "        for i in range(nsim):\n",
    "            answer[len(answer):] = [np.random.randint(0,n)]\n",
    "        return answer\n",
    "    \n",
    "    \n",
    "    ## Keeps guessing \n",
    "    def goat_door(prizedoors, guesses, n):\n",
    "        goats = list(); \n",
    "        i = 0;      \n",
    "        \n",
    "        while (i < n):\n",
    "            random_int = np.random.randint(0,n);\n",
    "            if(random_int != guesses[i] and random_int != prizedoors[i]):\n",
    "                i += 1;\n",
    "                goats.append([np.random.randint(0,n)])\n",
    "        \n",
    "        return goats\n",
    "\n",
    "    \n",
    "    def switch_guess(guesses, goat_door, n):\n",
    "        #FIXME : NOT WORKING FOR SOME REASON \n",
    "        switch = list(); \n",
    "        i = 0;\n",
    "\n",
    "        while (len(switch) != len(guesses)):\n",
    "            random_int = np.random.randint(0,n);\n",
    "            if(random_int != guesses[i]):\n",
    "                i += 1;\n",
    "                switch.append([np.random.randint(0,n)])\n",
    "        \n",
    "        return switch\n",
    "    \n",
    "    \n",
    "    def win_percentage(guesses, prizedoors):\n",
    "        win = 0\n",
    "        for i in range(len(guesses)):\n",
    "            if prizedoors[i]==guesses[i]:\n",
    "                win = win + 1\n",
    "        percentage = ((win*100.0)/(len(guesses)))\n",
    "        return percentage\n",
    "    \n",
    "    guesses = simulate_guess(nsim, doors);\n",
    "    prizedoors = simulate_prizedoor(nsim, doors);\n",
    "    goat_door = goat_door(prizedoors,guesses, doors);\n",
    "    switches = switch_guess(guesses,goat_door, doors);\n",
    "    \n",
    "    win_switch = win_percentage(switches,prizedoors);\n",
    "    win_stay = win_percentage(guesses,prizedoors); \n",
    "    \n",
    "    return 'switch: %s' % win_switch + '%%, stay: %s' % win_stay + '%'\n",
    "    \n",
    "print simulate(1000, 3);\n",
    "\n",
    "# Hint: redefine all functions using an extra parameter n, which equals the number of doors\n",
    "# Then create two arrays in which you store the winning-percentages for all numbers of doors between 3 and 20\n",
    "# then plots those"
   ]
  },
  {
   "cell_type": "markdown",
   "metadata": {
    "slideshow": {
     "slide_type": "slide"
    }
   },
   "source": [
    "### Interpretation 2\n",
    "* There are _n_ doors.\n",
    "* You have chosen one door.\n",
    "* The host opens _all except two doors_, namely your door, and a random other door.  Behind none of the opened doors lies the prize."
   ]
  },
  {
   "cell_type": "code",
   "execution_count": null,
   "metadata": {
    "collapsed": true,
    "slideshow": {
     "slide_type": "slide"
    }
   },
   "outputs": [],
   "source": [
    "# your code here"
   ]
  },
  {
   "cell_type": "markdown",
   "metadata": {
    "slideshow": {
     "slide_type": "slide"
    }
   },
   "source": [
    "# Uitleg \n",
    "\n",
    "* hier komt jullie uitleg"
   ]
  },
  {
   "cell_type": "markdown",
   "metadata": {
    "slideshow": {
     "slide_type": "slide"
    }
   },
   "source": [
    "# Q2 Notebook assignment\n",
    "\n",
    "See [Getting familiar with the notebook](../../LectureNotes/lecture_notes_week1.html#ass)\n",
    "\n",
    "http://nbviewer.jupyter.org/github/110336710/Ipyhton/blob/master/Notebook%20assignment.ipynb \n"
   ]
  },
  {
   "cell_type": "code",
   "execution_count": 1,
   "metadata": {
    "collapsed": false,
    "slideshow": {
     "slide_type": "slide"
    }
   },
   "outputs": [
    {
     "data": {
      "text/plain": [
       "16"
      ]
     },
     "execution_count": 1,
     "metadata": {},
     "output_type": "execute_result"
    }
   ],
   "source": [
    "4*4"
   ]
  },
  {
   "cell_type": "code",
   "execution_count": 2,
   "metadata": {
    "collapsed": false,
    "slideshow": {
     "slide_type": "slide"
    }
   },
   "outputs": [
    {
     "data": {
      "text/plain": [
       "13.856406460551018"
      ]
     },
     "execution_count": 2,
     "metadata": {},
     "output_type": "execute_result"
    }
   ],
   "source": [
    "import math\n",
    "8*math.sqrt(3)"
   ]
  },
  {
   "cell_type": "code",
   "execution_count": 3,
   "metadata": {
    "collapsed": false,
    "slideshow": {
     "slide_type": "slide"
    }
   },
   "outputs": [
    {
     "name": "stdout",
     "output_type": "stream",
     "text": [
      "altgraph (0.10.2)\r\n",
      "backports.ssl-match-hostname (3.4.0.2)\r\n",
      "bdist-mpkg (0.5.0)\r\n",
      "beautifulsoup4 (4.3.2)\r\n",
      "bonjour-py (0.3)\r\n",
      "certifi (14.05.14)\r\n",
      "gnureadline (6.3.3)\r\n",
      "httplib2 (0.9)\r\n",
      "ipython (2.4.1)\r\n",
      "Jinja2 (2.7.3)\r\n",
      "macholib (1.5.1)\r\n",
      "MarkupSafe (0.23)\r\n",
      "matplotlib (1.3.1)\r\n",
      "modulegraph (0.10.4)\r\n",
      "networkx (1.8.1)\r\n",
      "nose (1.3.4)\r\n",
      "numpy (1.8.0rc1)\r\n",
      "oauth2 (1.5.211)\r\n",
      "oauthlib (0.6.1)\r\n",
      "pandas (0.15.2)\r\n",
      "PIL (1.1.7)\r\n",
      "pip (1.4.1)\r\n",
      "py2app (0.7.3)\r\n",
      "pyobjc-core (2.5.1)\r\n",
      "pyobjc-framework-Accounts (2.5.1)\r\n",
      "pyobjc-framework-AddressBook (2.5.1)\r\n",
      "pyobjc-framework-AppleScriptKit (2.5.1)\r\n",
      "pyobjc-framework-AppleScriptObjC (2.5.1)\r\n",
      "pyobjc-framework-Automator (2.5.1)\r\n",
      "pyobjc-framework-CFNetwork (2.5.1)\r\n",
      "pyobjc-framework-Cocoa (2.5.1)\r\n",
      "pyobjc-framework-Collaboration (2.5.1)\r\n",
      "pyobjc-framework-CoreData (2.5.1)\r\n",
      "pyobjc-framework-CoreLocation (2.5.1)\r\n",
      "pyobjc-framework-CoreText (2.5.1)\r\n",
      "pyobjc-framework-DictionaryServices (2.5.1)\r\n",
      "pyobjc-framework-EventKit (2.5.1)\r\n",
      "pyobjc-framework-ExceptionHandling (2.5.1)\r\n",
      "pyobjc-framework-FSEvents (2.5.1)\r\n",
      "pyobjc-framework-InputMethodKit (2.5.1)\r\n",
      "pyobjc-framework-InstallerPlugins (2.5.1)\r\n",
      "pyobjc-framework-InstantMessage (2.5.1)\r\n",
      "pyobjc-framework-LatentSemanticMapping (2.5.1)\r\n",
      "pyobjc-framework-LaunchServices (2.5.1)\r\n",
      "pyobjc-framework-Message (2.5.1)\r\n",
      "pyobjc-framework-OpenDirectory (2.5.1)\r\n",
      "pyobjc-framework-PreferencePanes (2.5.1)\r\n",
      "pyobjc-framework-PubSub (2.5.1)\r\n",
      "pyobjc-framework-QTKit (2.5.1)\r\n",
      "pyobjc-framework-Quartz (2.5.1)\r\n",
      "pyobjc-framework-ScreenSaver (2.5.1)\r\n",
      "pyobjc-framework-ScriptingBridge (2.5.1)\r\n",
      "pyobjc-framework-SearchKit (2.5.1)\r\n",
      "pyobjc-framework-ServiceManagement (2.5.1)\r\n",
      "pyobjc-framework-Social (2.5.1)\r\n",
      "pyobjc-framework-SyncServices (2.5.1)\r\n",
      "pyobjc-framework-SystemConfiguration (2.5.1)\r\n",
      "pyobjc-framework-WebKit (2.5.1)\r\n",
      "pyOpenSSL (0.13.1)\r\n",
      "pyparsing (2.0.1)\r\n",
      "pysqlite (2.6.3)\r\n",
      "python-dateutil (1.5)\r\n",
      "python-twitter (1.3.1)\r\n",
      "pytz (2013.7)\r\n",
      "pyzmq (14.5.0)\r\n",
      "requests (2.2.1)\r\n",
      "requests-oauthlib (0.4.0)\r\n",
      "scikit-learn (0.15.2)\r\n",
      "scipy (0.13.0b1)\r\n",
      "seaborn (0.5.1)\r\n",
      "setuptools (1.1.6)\r\n",
      "simplejson (3.4.0)\r\n",
      "six (1.4.1)\r\n",
      "tornado (4.1)\r\n",
      "udemy-dl (0.1.7)\r\n",
      "vboxapi (1.0)\r\n",
      "wget (2.2)\r\n",
      "wsgiref (0.1.2)\r\n",
      "xattr (0.6.4)\r\n",
      "zope.interface (4.1.1)\r\n"
     ]
    }
   ],
   "source": [
    "!pip list"
   ]
  },
  {
   "cell_type": "markdown",
   "metadata": {
    "slideshow": {
     "slide_type": "slide"
    }
   },
   "source": [
    "![alt text](https://staff.fnwi.uva.nl/m.jain/fig/UvA-logo-english.jpg)\n",
    "\n",
    "\n",
    "### Reglementen - Bacheloropleiding Informatiekunde\n",
    "___\n",
    "\n",
    "# TOETSBELEID – BACHELOROPLEIDING INFORMATIEKUNDE\n",
    "##### *Versie: 12 mei 2014*\n",
    "\n",
    "Dit document geeft een opsomming van reglementen die horen bij het toetsbeleid zoals dit geldt binnen de opleiding Bachelor Informatiekunde (BSc IK). Het doel van dit document is om deze reglementen expliciet te maken en te communiceren met belanghebbenden teneinde misverstanden, problemen en fouten te voorkomen, evenals vereenvoudiging te bewerkstelligen door meer uniformiteit.\n",
    "\n",
    "\n",
    "###### Omvang vakken\n",
    "\n",
    "Vakken binnen de BSc IK hebben een omvang van 6 EC, duren 8 of 4 weken, en worden respectievelijk half- of voltijds gegeven. Een uitzondering vormt het derdejaars Afstudeerproject BSc IK, wat gedurende de tweede helft van het derde jaar wordt gegeven (gedeeltelijk op individuele basis met een vaste supervisor), en een omvang heeft van 12 EC. Acht weken durende vakken noemen we regulier en vier weken durende vakken noemen we blokvakken of projecten.\n",
    "\n",
    "Daarnaast zijn vakken die acht weken duren opgedeeld in twee typen:\n",
    "A - vakken met een deeltoets in week 4 en week 8, waarbij deze toetsweken onderwijsvrij zijn. Naast de deeltoetsen kan er ook sprake zijn van deelcijfers op basis van werkgroep- en/of practicumopdrachten.\n",
    "B - vakken waarbij meer dan twee toetsmomenten plaats vinden en waarbij het onderwijs in week 4 en/of week 8 door loopt.\n",
    "\n",
    "Een regulier vak heeft een omvang van 6 EC, hetgeen per week een ruimte van 21 uur impliceert (6 EC * 28 uren / 8 weken). De onderwijsbelasting voor studenten moet hierop nauwkeurig zijn afgestemd.\n",
    "\n",
    "\n",
    "###### Studiewijzer en peer review\n",
    "\n",
    "Alk vak heeft een studiewijzer waarin een beschrijving van de inhoud van het vak, de organisatie, de regels over aanwezigheid, de toetsvormen en hun weging en de deadlines voor het inleveren van opdrachten is opgenomen. Ook meldt de studiewijzer wat de consequenties zijn van het onvoldoende aanwezig zijn of het niet behalen van een deadline. De studiewijzer wordt voorafgaand aan het vak via de BB-site van het vak (of een website van de docent zelf) beschikbaar gemaakt.\n",
    "\n",
    "Schriftelijke (Deel)tentamens worden gepeerreviewd. Docenten worden paarsgewijs aan elkaar gekoppeld en bekijken en bespreken elkaars tentamens en antwoordmodellen.\n",
    "\n",
    "* uiterlijk drie werkdagen voordat het tentamen plaatsvindt, is het tentamen beschikbaar voor peer review;\n",
    "* taak van de reviewer: nagaan of het tentamen op een duidelijke en begrijpelijke manier is opgesteld, of alle informatie voor de student beschikbaar is en zo mogelijk: of het tentamen de gestelde leerdoelen toetst;\n",
    "* de reviewer legt de resultaten van de review vast in een template (zie bijlage); de examencommissie kan deze opvragen.\n",
    "* ten behoeve van _peer review_ worden vakken gekoppeld in paren.\n",
    "\n",
    "Onvoldoende|Voldoende|Goed\n",
    "---|---|---\n",
    "*1.0-5.6*|*5.6-7.5*|*7.5-10*\n",
    "\n"
   ]
  },
  {
   "cell_type": "markdown",
   "metadata": {
    "slideshow": {
     "slide_type": "slide"
    }
   },
   "source": [
    " $\\LaTeX{}$in Markdown\n",
    "$2^3 \\ge 1^4$\n",
    "\n",
    "##### Enkele eenvoudige stellingen over verzamelingen:\n",
    "\n",
    "* Stelling 1: Gegeven drie verzamelingen A, B en C, dan geldt dat als A een deelverzameling is van B en B is een deelverzameling van C, dan is A een deelverzameling van C.\n",
    "* Stelling 2: Twee verzamelingen A en B zijn gelijk dan en slechts dan als A een deelverzameling van B is en B een deelverzameling is van A.\n",
    "* Stelling 3: De lege verzameling is een deelverzameling van elke verzameling.\n",
    "\n",
    "**Definitie**: $A - B = {x: x \\in A ∧ x \\not\\in B}$ - (Het complement van $B$ m.b.t. $A$).\n",
    "\n",
    "De wetten van De Morgan luiden:\n",
    "\n",
    "$(A ∪ B)' = A' ∩ B '$\n",
    "\n",
    "$(A ∩ B)' = A' ∪ B '$\n",
    "\n",
    "$A - (B ∪ C) = (A - B) ∩ (A - C)$\n",
    "\n",
    "$A - (B ∩ C) = (A - B) ∪ (A - C)$"
   ]
  }
 ],
 "metadata": {
  "celltoolbar": "Slideshow",
  "kernelspec": {
   "display_name": "Python 2",
   "language": "python",
   "name": "python2"
  },
  "language_info": {
   "codemirror_mode": {
    "name": "ipython",
    "version": 2
   },
   "file_extension": ".py",
   "mimetype": "text/x-python",
   "name": "python",
   "nbconvert_exporter": "python",
   "pygments_lexer": "ipython2",
   "version": "2.7.11"
  }
 },
 "nbformat": 4,
 "nbformat_minor": 0
}
